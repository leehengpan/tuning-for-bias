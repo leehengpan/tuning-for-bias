{
 "cells": [
  {
   "cell_type": "code",
   "execution_count": 1,
   "id": "a1ed9f82",
   "metadata": {},
   "outputs": [
    {
     "name": "stderr",
     "output_type": "stream",
     "text": [
      "2023-04-22 19:06:31.869979: I tensorflow/core/platform/cpu_feature_guard.cc:193] This TensorFlow binary is optimized with oneAPI Deep Neural Network Library (oneDNN) to use the following CPU instructions in performance-critical operations:  AVX2 FMA\n",
      "To enable them in other operations, rebuild TensorFlow with the appropriate compiler flags.\n"
     ]
    }
   ],
   "source": [
    "import tensorflow as tf"
   ]
  },
  {
   "cell_type": "code",
   "execution_count": 2,
   "id": "79e0ff3a",
   "metadata": {},
   "outputs": [
    {
     "name": "stderr",
     "output_type": "stream",
     "text": [
      "2023-04-22 19:06:39.389335: I tensorflow/core/platform/cpu_feature_guard.cc:193] This TensorFlow binary is optimized with oneAPI Deep Neural Network Library (oneDNN) to use the following CPU instructions in performance-critical operations:  AVX2 FMA\n",
      "To enable them in other operations, rebuild TensorFlow with the appropriate compiler flags.\n"
     ]
    },
    {
     "data": {
      "text/plain": [
       "<tf.Tensor: shape=(1, 512, 768), dtype=float32, numpy=\n",
       "array([[[ 2.6503448 ,  3.2016244 ,  1.3388029 , ...,  2.2058847 ,\n",
       "          0.3312998 , -0.7049581 ],\n",
       "        [-0.8145513 , -0.57293844, -1.6074227 , ..., -1.2925094 ,\n",
       "          1.9251825 ,  0.19470358],\n",
       "        [ 1.4512795 , -0.10057461, -0.5397182 , ..., -2.602287  ,\n",
       "         -0.05150816,  0.66684645],\n",
       "        ...,\n",
       "        [ 1.6137371 ,  0.6078762 ,  1.4367299 , ...,  0.5003481 ,\n",
       "          1.8043325 , -1.1023154 ],\n",
       "        [ 0.48527208,  0.02323312, -1.3962259 , ...,  0.01635098,\n",
       "          1.1910217 , -0.7607111 ],\n",
       "        [-1.0391499 , -0.6451527 ,  0.4608687 , ...,  0.95216405,\n",
       "          0.7718486 ,  0.71542233]]], dtype=float32)>"
      ]
     },
     "execution_count": 2,
     "metadata": {},
     "output_type": "execute_result"
    }
   ],
   "source": [
    "import pickle\n",
    "\n",
    "with open('encoded_articles.pkl','rb') as f:\n",
    "    articles_dict = pickle.load(f)\n",
    "articles_dict[0]['content_embed']"
   ]
  },
  {
   "cell_type": "code",
   "execution_count": 23,
   "id": "c99c33e9",
   "metadata": {},
   "outputs": [],
   "source": [
    "import numpy as np\n",
    "\n",
    "for art in articles_dict:\n",
    "    content_emb.append(art['content_embed'])\n",
    "    "
   ]
  },
  {
   "cell_type": "code",
   "execution_count": 27,
   "id": "19fdd1ee",
   "metadata": {},
   "outputs": [
    {
     "data": {
      "text/plain": [
       "<tf.Tensor: shape=(1, 512, 768), dtype=float32, numpy=\n",
       "array([[[ 2.6503448 ,  3.2016244 ,  1.3388029 , ...,  2.2058847 ,\n",
       "          0.3312998 , -0.7049581 ],\n",
       "        [-0.8145513 , -0.57293844, -1.6074227 , ..., -1.2925094 ,\n",
       "          1.9251825 ,  0.19470358],\n",
       "        [ 1.4512795 , -0.10057461, -0.5397182 , ..., -2.602287  ,\n",
       "         -0.05150816,  0.66684645],\n",
       "        ...,\n",
       "        [ 1.6137371 ,  0.6078762 ,  1.4367299 , ...,  0.5003481 ,\n",
       "          1.8043325 , -1.1023154 ],\n",
       "        [ 0.48527208,  0.02323312, -1.3962259 , ...,  0.01635098,\n",
       "          1.1910217 , -0.7607111 ],\n",
       "        [-1.0391499 , -0.6451527 ,  0.4608687 , ...,  0.95216405,\n",
       "          0.7718486 ,  0.71542233]]], dtype=float32)>"
      ]
     },
     "execution_count": 27,
     "metadata": {},
     "output_type": "execute_result"
    }
   ],
   "source": [
    "articles_dict[0]['content_embed']"
   ]
  },
  {
   "cell_type": "code",
   "execution_count": 35,
   "id": "cec435ff",
   "metadata": {},
   "outputs": [
    {
     "data": {
      "text/plain": [
       "TensorShape([2, 11, 512, 768])"
      ]
     },
     "execution_count": 35,
     "metadata": {},
     "output_type": "execute_result"
    }
   ],
   "source": [
    "content_emb = []\n",
    "batch_size = 11\n",
    "for i in range(22//11):\n",
    "    batch_start = i*batch_size\n",
    "    batch_end = (i+1)*batch_size\n",
    "    content_emb.append([articles_dict[j]['content_embed'] for j in range(batch_start,batch_end)])\n",
    "\n",
    "batch1 = tf.convert_to_tensor(np.stack(arrays=(np.concatenate(content_emb[0]),np.concatenate(content_emb[1]))))\n",
    "batch1.shape\n"
   ]
  },
  {
   "cell_type": "code",
   "execution_count": 36,
   "id": "06c591d7",
   "metadata": {},
   "outputs": [],
   "source": [
    "class EncoderBlock(tf.keras.layers.Layer):\n",
    "    def __init__(self, emb_sz, num_heads, key_dim, **kwargs):\n",
    "        super(EncoderBlock, self).__init__(**kwargs)\n",
    "\n",
    "        # dense layers for encoder block --> NOTE TO GENERALIZE \n",
    "        self.ff_layer = tf.keras.Sequential([\n",
    "            tf.keras.layers.Dense(128, activation=\"relu\"),\n",
    "            tf.keras.layers.Dense(768)\n",
    "        ])\n",
    "        \n",
    "        # self attention layer \n",
    "        self.self_atten = tf.keras.layers.MultiHeadAttention(num_heads, key_dim)\n",
    "        \n",
    "        # normailization layers \n",
    "        self.layer_norm_1 =  tf.keras.layers.LayerNormalization()\n",
    "        self.layer_norm_2 =  tf.keras.layers.LayerNormalization()\n",
    "       \n",
    "\n",
    "#     @tf.function\n",
    "    def call(self, embedded_articles):\n",
    "        \n",
    "        '''\n",
    "        embedded_artiles: (batch_size (TBD), window_size (512), embedding_size (768))\n",
    "        '''\n",
    "        # self attention on embedded articles --> z (window_size x key_dims)\n",
    "        z_matrix = self.self_atten(embedded_articles, embedded_articles)\n",
    "        \n",
    "        # add part of Add and Normalize \n",
    "        residuals = embedded_articles + z_matrix\n",
    "        \n",
    "        # normalize the added matrixes \n",
    "        normalized_resid = self.layer_norm_1(residuals)\n",
    "        \n",
    "        # feed forward the normalized output \n",
    "        ff_output = self.ff_layer(normalized_resid)\n",
    "        \n",
    "        # normalize the first normalization and the output of feed forward\n",
    "        normalized_resid2 = normalized_resid + ff_output\n",
    "        \n",
    "        encoder_output = self.layer_norm_2(normalized_resid2)\n",
    "        \n",
    "#         outputs = tf.nn.relu(normalized_resid3)\n",
    "        return encoder_output"
   ]
  },
  {
   "cell_type": "code",
   "execution_count": 37,
   "id": "091552fd",
   "metadata": {},
   "outputs": [
    {
     "data": {
      "text/plain": [
       "<tf.Tensor: shape=(2, 11, 512, 768), dtype=float32, numpy=\n",
       "array([[[[ 1.0007707 ,  1.9288177 ,  0.8544002 , ...,  1.246929  ,\n",
       "          -0.600557  , -0.10351774],\n",
       "         [-0.48076025, -0.02717685, -0.70863223, ..., -0.68551445,\n",
       "           0.521741  ,  0.0805061 ],\n",
       "         [ 0.5730688 ,  0.29923183,  0.08056142, ..., -0.63599205,\n",
       "          -0.43481642,  0.38445443],\n",
       "         ...,\n",
       "         [ 1.4230428 ,  0.51090294,  1.1639664 , ...,  1.0165987 ,\n",
       "           1.0949777 , -1.0507388 ],\n",
       "         [ 0.7210073 ,  0.02415081, -1.0135348 , ..., -0.36984262,\n",
       "           0.96290404, -1.4017109 ],\n",
       "         [-1.184756  , -0.2101558 ,  0.83744335, ...,  0.85527194,\n",
       "           0.22144598, -0.18578431]],\n",
       "\n",
       "        [[ 1.2817701 ,  1.5769377 ,  0.7427168 , ...,  1.0008177 ,\n",
       "          -0.5426979 , -0.25791028],\n",
       "         [-0.8403585 , -0.45353368, -0.15228042, ...,  1.6866863 ,\n",
       "          -2.1070573 , -0.1213396 ],\n",
       "         [ 0.48486283, -1.8812795 , -0.80471414, ...,  1.9770449 ,\n",
       "          -0.28466183,  0.04332067],\n",
       "         ...,\n",
       "         [ 0.12124299, -0.5334215 , -1.0952948 , ..., -0.05020157,\n",
       "           0.8521941 ,  0.26053038],\n",
       "         [-0.7711316 , -1.1781187 , -1.6997491 , ...,  0.067007  ,\n",
       "          -0.15027231, -0.39875603],\n",
       "         [-0.8909542 , -0.99342775,  0.29812843, ...,  0.2336571 ,\n",
       "           0.8311991 ,  0.30443564]],\n",
       "\n",
       "        [[ 1.0942668 ,  1.6937641 ,  0.9497743 , ...,  1.1177129 ,\n",
       "          -0.6126329 , -0.10344176],\n",
       "         [ 0.38347805, -1.267427  , -0.00786941, ..., -0.35003948,\n",
       "           0.00859779,  1.2805756 ],\n",
       "         [ 1.3223959 ,  0.63309526,  1.3154308 , ...,  0.7455158 ,\n",
       "           0.4759443 ,  0.56105554],\n",
       "         ...,\n",
       "         [ 0.6225226 , -1.4135513 , -0.0072032 , ..., -0.78150356,\n",
       "           0.8524762 ,  0.77213204],\n",
       "         [ 0.4259016 , -1.2109267 , -0.6830271 , ..., -0.09308422,\n",
       "           2.014448  ,  0.9747856 ],\n",
       "         [ 0.9839679 , -1.9112204 , -0.24049911, ..., -0.85664725,\n",
       "           1.6250631 ,  1.4344848 ]],\n",
       "\n",
       "        ...,\n",
       "\n",
       "        [[ 1.2578981 ,  1.8150363 ,  0.837949  , ...,  1.0864091 ,\n",
       "          -0.6842736 , -0.10805268],\n",
       "         [ 0.52054894,  0.07030322, -0.18964876, ...,  0.09534486,\n",
       "          -1.8407152 ,  0.21807122],\n",
       "         [-0.6906537 ,  0.48685998, -0.91858506, ...,  0.84720886,\n",
       "          -2.3458912 ,  0.4059497 ],\n",
       "         ...,\n",
       "         [-0.5231737 , -0.8909542 , -0.12701133, ...,  1.1638379 ,\n",
       "          -0.49903026, -0.47152463],\n",
       "         [-0.7769824 , -0.39176387,  0.39125255, ...,  1.5123665 ,\n",
       "           0.53247106, -0.37322998],\n",
       "         [-0.87157434, -1.496513  ,  0.78920996, ...,  1.0636028 ,\n",
       "           0.9327618 , -0.09847784]],\n",
       "\n",
       "        [[ 1.2257802 ,  1.6606077 ,  0.85787284, ...,  1.0168953 ,\n",
       "          -0.5952334 , -0.10610773],\n",
       "         [ 0.5608105 ,  0.00816484,  0.18240039, ...,  0.0735089 ,\n",
       "          -1.8378984 ,  0.36157522],\n",
       "         [ 0.32729772, -0.4566697 ,  0.256859  , ...,  1.462771  ,\n",
       "          -0.51591384,  0.2557536 ],\n",
       "         ...,\n",
       "         [-0.08788726,  0.20643333,  0.49659848, ...,  0.9691584 ,\n",
       "           0.82938266,  0.15306118],\n",
       "         [ 0.22125547,  0.6829162 , -0.41126058, ...,  0.84005994,\n",
       "          -0.449825  ,  0.3697544 ],\n",
       "         [-0.04424381, -0.95164937,  0.86787456, ...,  1.7909039 ,\n",
       "           0.90073395,  1.0768088 ]],\n",
       "\n",
       "        [[ 0.9672696 ,  1.6167058 ,  0.9258201 , ...,  0.99481463,\n",
       "          -0.6548553 , -0.07098084],\n",
       "         [ 0.4212251 ,  0.06107889,  0.24298406, ..., -0.07552563,\n",
       "          -1.6093968 ,  0.3581701 ],\n",
       "         [ 0.46646222,  0.20385927, -1.0733399 , ...,  0.7608781 ,\n",
       "          -0.33471972,  0.42341068],\n",
       "         ...,\n",
       "         [ 1.4672287 , -1.7704984 ,  1.6680555 , ...,  0.21147168,\n",
       "           1.1941935 ,  0.06567544],\n",
       "         [ 0.67314255, -2.6509361 ,  2.129852  , ..., -0.26192567,\n",
       "           0.15780005,  0.294027  ],\n",
       "         [-0.36406025, -1.8710169 ,  0.5028669 , ...,  0.64503014,\n",
       "          -1.2828615 ,  0.14614475]]],\n",
       "\n",
       "\n",
       "       [[[ 1.0884179 ,  1.5656939 ,  0.7102903 , ...,  0.9366162 ,\n",
       "          -0.5178679 , -0.16653416],\n",
       "         [ 0.02284415, -1.2597073 , -0.3356159 , ...,  0.53281516,\n",
       "           0.2867671 ,  1.2069088 ],\n",
       "         [-0.55860186,  0.44246426,  0.8508421 , ...,  0.63330466,\n",
       "          -1.3432217 ,  0.42397636],\n",
       "         ...,\n",
       "         [ 0.6479006 ,  0.52516353, -1.0047874 , ...,  0.62764245,\n",
       "          -0.0536632 , -0.50080335],\n",
       "         [ 0.5438779 ,  0.45812437,  0.58797336, ..., -0.3267231 ,\n",
       "           0.613925  ,  0.06937607],\n",
       "         [-0.04191539,  0.18889853,  0.32778564, ..., -0.04351501,\n",
       "           0.10555344,  0.00457026]],\n",
       "\n",
       "        [[ 1.0447291 ,  1.7073388 ,  0.8472848 , ...,  1.0717877 ,\n",
       "          -0.7248603 , -0.10717038],\n",
       "         [-0.57658064, -0.44542158, -0.32610753, ..., -0.43265453,\n",
       "          -1.8435498 ,  0.51858383],\n",
       "         [ 0.39922857, -0.2107668 ,  0.04553842, ..., -0.733407  ,\n",
       "          -1.166246  , -0.16140735],\n",
       "         ...,\n",
       "         [-0.36841807,  0.3419337 , -0.49858788, ...,  0.22230013,\n",
       "          -0.28326488, -0.69361013],\n",
       "         [ 0.7196449 ,  0.671703  , -0.72851807, ...,  0.34196317,\n",
       "           0.6304659 , -0.7975195 ],\n",
       "         [-1.0243726 , -1.9262465 ,  1.8402413 , ...,  1.4026551 ,\n",
       "          -0.55581796,  0.28102908]],\n",
       "\n",
       "        [[ 1.3155699 ,  1.7203798 ,  0.8958444 , ...,  0.9831676 ,\n",
       "          -0.6383862 , -0.16125761],\n",
       "         [-0.20348789, -0.34497026,  1.3792666 , ...,  0.4122536 ,\n",
       "          -0.40631157,  0.40823185],\n",
       "         [ 1.033502  ,  0.14939317,  0.35416123, ..., -0.8188503 ,\n",
       "          -0.68363845,  1.813168  ],\n",
       "         ...,\n",
       "         [ 1.2896296 ,  0.67207885,  0.51301444, ...,  1.1517578 ,\n",
       "          -0.28596526, -0.58661276],\n",
       "         [-0.4304322 ,  0.06649683,  1.9951901 , ...,  1.0915792 ,\n",
       "          -0.9335173 ,  1.3282897 ],\n",
       "         [-0.35965928, -0.58807915,  1.2674038 , ...,  1.0594614 ,\n",
       "          -1.0845361 ,  0.44745874]],\n",
       "\n",
       "        ...,\n",
       "\n",
       "        [[ 1.2320038 ,  1.7286311 ,  0.8271656 , ...,  0.9311752 ,\n",
       "          -0.5304054 , -0.02577664],\n",
       "         [-0.24816544,  0.13411966,  0.21382374, ...,  1.1615192 ,\n",
       "          -0.6351489 ,  0.3307702 ],\n",
       "         [ 1.8047805 ,  0.89331895, -1.0176852 , ...,  0.06408465,\n",
       "          -0.09005726, -0.10270897],\n",
       "         ...,\n",
       "         [-1.4651704 , -2.2273667 , -0.9464312 , ...,  1.3155249 ,\n",
       "          -0.23549844, -0.7722859 ],\n",
       "         [-1.523562  , -0.7270063 , -0.68284726, ...,  2.0588148 ,\n",
       "          -0.5601494 ,  1.371391  ],\n",
       "         [-1.553411  , -1.2983124 ,  0.22766857, ...,  0.33864105,\n",
       "          -0.7054075 ,  0.9447993 ]],\n",
       "\n",
       "        [[ 1.2602367 ,  1.5276111 ,  0.88312334, ...,  0.8767158 ,\n",
       "          -0.6782941 ,  0.02887872],\n",
       "         [-0.5346735 , -1.4448831 , -1.3109325 , ...,  1.5001334 ,\n",
       "           0.4513887 ,  0.5502588 ],\n",
       "         [-0.82929236, -0.49891979, -0.93870467, ...,  0.93588245,\n",
       "          -0.66538864,  0.33002904],\n",
       "         ...,\n",
       "         [-1.0555724 , -0.04880842, -0.94225645, ...,  0.9226947 ,\n",
       "          -1.6534607 , -0.19409479],\n",
       "         [-0.40281153,  0.19991747, -0.64019924, ...,  1.7950104 ,\n",
       "          -0.75487125, -0.87493783],\n",
       "         [-0.83189726, -0.7117551 ,  0.47306177, ...,  1.1327934 ,\n",
       "          -1.1676079 , -0.880431  ]],\n",
       "\n",
       "        [[ 1.048115  ,  1.7788843 ,  0.83294255, ...,  0.9342494 ,\n",
       "          -0.7054588 ,  0.07581308],\n",
       "         [ 0.12145445,  0.16364123, -0.03744709, ...,  0.23326285,\n",
       "          -0.44745252, -0.13542193],\n",
       "         [-0.11504401, -0.5332714 ,  0.26943648, ...,  0.18855946,\n",
       "          -0.09380077, -0.14240679],\n",
       "         ...,\n",
       "         [-1.3586649 , -0.07044765, -1.675159  , ..., -0.12807481,\n",
       "          -2.024342  ,  0.30841088],\n",
       "         [ 0.5325195 ,  0.03819202, -0.48205844, ...,  0.22197576,\n",
       "          -1.1010002 ,  0.04949169],\n",
       "         [-1.0586908 , -1.7557648 ,  0.68103075, ...,  0.6271826 ,\n",
       "          -0.90909946,  0.732004  ]]]], dtype=float32)>"
      ]
     },
     "execution_count": 37,
     "metadata": {},
     "output_type": "execute_result"
    }
   ],
   "source": [
    "# encoder block: embed_size=768, num_heads=4, key_dim=64)\n",
    "encblock = EncoderBlock(768, 1, 64)\n",
    "encblock(batch1)"
   ]
  },
  {
   "cell_type": "code",
   "execution_count": 5,
   "id": "12092feb",
   "metadata": {},
   "outputs": [
    {
     "ename": "NameError",
     "evalue": "name 'self_atten' is not defined",
     "output_type": "error",
     "traceback": [
      "\u001b[0;31m---------------------------------------------------------------------------\u001b[0m",
      "\u001b[0;31mNameError\u001b[0m                                 Traceback (most recent call last)",
      "Cell \u001b[0;32mIn[5], line 2\u001b[0m\n\u001b[1;32m      1\u001b[0m \u001b[38;5;66;03m# self attention on embedded articles --> z (window_size x key_dims)\u001b[39;00m\n\u001b[0;32m----> 2\u001b[0m z_matrix \u001b[38;5;241m=\u001b[39m \u001b[43mself_atten\u001b[49m(embedded_articles, embedded_articles)\n",
      "\u001b[0;31mNameError\u001b[0m: name 'self_atten' is not defined"
     ]
    }
   ],
   "source": [
    "# self attention on embedded articles --> z (window_size x key_dims)\n",
    "z_matrix = self_atten(embedded_articles, embedded_articles)\n",
    "\n"
   ]
  }
 ],
 "metadata": {
  "kernelspec": {
   "display_name": "Python 3 (ipykernel)",
   "language": "python",
   "name": "python3"
  },
  "language_info": {
   "codemirror_mode": {
    "name": "ipython",
    "version": 3
   },
   "file_extension": ".py",
   "mimetype": "text/x-python",
   "name": "python",
   "nbconvert_exporter": "python",
   "pygments_lexer": "ipython3",
   "version": "3.10.10"
  }
 },
 "nbformat": 4,
 "nbformat_minor": 5
}
