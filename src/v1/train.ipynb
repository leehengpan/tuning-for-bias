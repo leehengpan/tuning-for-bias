{
 "cells": [
  {
   "cell_type": "code",
   "execution_count": 1,
   "id": "d048870d",
   "metadata": {},
   "outputs": [],
   "source": [
    "# import necessary packages \n",
    "import tensorflow as tf\n",
    "import pickle\n",
    "from transformer import TransformerModel"
   ]
  },
  {
   "cell_type": "code",
   "execution_count": 2,
   "id": "a01ca401",
   "metadata": {},
   "outputs": [],
   "source": [
    "# get train content data from pickle \n",
    "with open('../data/embeddings/train_content_embeddings.pkl','rb') as f:\n",
    "    train_content_emb = pickle.load(f)\n",
    "\n",
    "# get train title data from pickle \n",
    "with open('../data/embeddings/train_title_embeddings.pkl','rb') as f:\n",
    "    train_title_emb = pickle.load(f)\n",
    "\n",
    "# get train title labels data from pickle \n",
    "with open('../data/embeddings/train_title_labels.pkl','rb') as f:\n",
    "    train_title_tokens = pickle.load(f)\n",
    "\n",
    "with open('../data/embeddings/title_index_word.pkl','rb') as f:\n",
    "    word_dict = pickle.load(f)\n"
   ]
  },
  {
   "cell_type": "code",
   "execution_count": 3,
   "id": "16be18ce",
   "metadata": {},
   "outputs": [],
   "source": [
    "# create datasets for training and testing \n",
    "train_content_data = tf.convert_to_tensor(train_content_emb)\n",
    "train_title_data = tf.convert_to_tensor(train_title_emb)\n",
    "train_title_labels = tf.convert_to_tensor(train_title_tokens)"
   ]
  },
  {
   "cell_type": "code",
   "execution_count": 5,
   "id": "4159b7ee",
   "metadata": {},
   "outputs": [
    {
     "name": "stderr",
     "output_type": "stream",
     "text": [
      "2023-05-10 21:25:54.368083: W tensorflow/tsl/platform/profile_utils/cpu_utils.cc:128] Failed to get CPU frequency: 0 Hz\n"
     ]
    },
    {
     "name": "stdout",
     "output_type": "stream",
     "text": [
      "126/126 [==============================] - 271s 2s/step - loss: 7.9554 - masked_accuracy: 0.0261\n"
     ]
    }
   ],
   "source": [
    "# initalize model\n",
    "model = TransformerModel(emb_sz=100, num_heads=5, key_dim=64, vocab_size=15000)\n",
    "\n",
    "# compile model with Adam optimizer and masked loss and masked accuracy \n",
    "model.compile(optimizer='Adam', loss=TransformerModel.masked_loss, metrics=[TransformerModel.masked_accuracy])\n",
    "\n",
    "# train model with token titles as labels \n",
    "model.fit(x=(train_content_data, train_title_data[:,:-1]), y=train_title_labels[:,1:], batch_size=200, epochs=1) # try 75 epochs\n",
    "\n",
    "# save weights\n",
    "model.save_weights('../weights/2blocks-fixedlr-datav2_1epoch_weights') # remember to change name"
   ]
  }
 ],
 "metadata": {
  "kernelspec": {
   "display_name": "Python 3 (ipykernel)",
   "language": "python",
   "name": "python3"
  },
  "language_info": {
   "codemirror_mode": {
    "name": "ipython",
    "version": 3
   },
   "file_extension": ".py",
   "mimetype": "text/x-python",
   "name": "python",
   "nbconvert_exporter": "python",
   "pygments_lexer": "ipython3",
   "version": "3.10.8"
  }
 },
 "nbformat": 4,
 "nbformat_minor": 5
}
