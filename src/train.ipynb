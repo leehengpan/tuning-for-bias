{
 "cells": [
  {
   "cell_type": "code",
   "execution_count": 1,
   "id": "d1522f5c",
   "metadata": {},
   "outputs": [],
   "source": [
    "# import re\n",
    "# from urllib.parse import unquote, unquote_plus\n",
    "# import json\n",
    "# from preprocess import *\n",
    "# import pandas as pd\n",
    "# from prepare_view_variant import *\n",
    "\n",
    "# files = ['../data/v2/foxnews_content_v2.json', '../data/v2/nyt_content_isaac.json',\n",
    "#              '../data/v2/nyt_content_liam.json', '../data/v2/nyt_content_sagar.json']\n",
    "# clean_text = [remove_char_encoding, remove_special_char, make_lowercase]\n",
    "# filepath = '../data/v2/nytfox_bias_collate.json'\n",
    "# collate_data(files, save_to=filepath, clean_text=clean_text)\n",
    "\n",
    "# train_content, train_title, test_content, test_title = train_test_split(input_file=filepath, test_split=0.80, shuffle=False)\n",
    "# (content_vocab, content_word_index, content_index_word,\n",
    "#     title_vocab, title_word_index, title_index_word) = vectorize_data(train_content, train_title)\n",
    "# glove_index = build_glove_embed_index()\n",
    "\n",
    "# bbc_content_emb = create_embeddings(train_content, glove_index, 256, 100, 'train_content')\n",
    "# bbc_title_emb = create_embeddings(train_title, glove_index, 16, 100, 'train_title')\n",
    "# bbc_title_tokens = create_token_labels(train_title, TITLE_VECTORIZER, dataset_name='train')"
   ]
  },
  {
   "cell_type": "code",
   "execution_count": 2,
   "id": "d048870d",
   "metadata": {},
   "outputs": [],
   "source": [
    "# import necessary packages \n",
    "import tensorflow as tf\n",
    "import pickle\n",
    "\n",
    "from transformer import TransformerModel"
   ]
  },
  {
   "cell_type": "code",
   "execution_count": 3,
   "id": "a01ca401",
   "metadata": {},
   "outputs": [],
   "source": [
    "# get train content data from pickle \n",
    "with open('../data/embeddings/train_content_embeddings.pkl','rb') as f:\n",
    "    train_content_emb = pickle.load(f)\n",
    "\n",
    "# get train title data from pickle \n",
    "with open('../data/embeddings/train_title_embeddings.pkl','rb') as f:\n",
    "    train_title_emb = pickle.load(f)\n",
    "\n",
    "# get train title labels data from pickle \n",
    "with open('../data/embeddings/train_title_labels.pkl','rb') as f:\n",
    "    train_title_tokens = pickle.load(f)\n"
   ]
  },
  {
   "cell_type": "code",
   "execution_count": 4,
   "id": "16be18ce",
   "metadata": {},
   "outputs": [],
   "source": [
    "# create datasets for training and testing \n",
    "train_content_data = tf.convert_to_tensor(train_content_emb)\n",
    "train_title_data = tf.convert_to_tensor(train_title_emb)\n",
    "train_title_labels = tf.convert_to_tensor(train_title_tokens)"
   ]
  },
  {
   "cell_type": "code",
   "execution_count": 5,
   "id": "4f403276",
   "metadata": {},
   "outputs": [],
   "source": [
    "# Custom learning rate scheduler\n",
    "\n",
    "# class CustomSchedule(tf.keras.optimizers.schedules.LearningRateSchedule):\n",
    "#   def __init__(self, d_model, warmup_steps=4000):\n",
    "#     super().__init__()\n",
    "\n",
    "#     self.d_model = d_model\n",
    "#     self.d_model = tf.cast(self.d_model, tf.float32)\n",
    "\n",
    "#     self.warmup_steps = warmup_steps\n",
    "\n",
    "#   def __call__(self, step):\n",
    "#     step = tf.cast(step, dtype=tf.float32)\n",
    "#     arg1 = tf.math.rsqrt(step)\n",
    "#     arg2 = step * (self.warmup_steps ** -1.5)\n",
    "\n",
    "#     return tf.math.rsqrt(self.d_model) * tf.math.minimum(arg1, arg2)\n",
    "  \n",
    "#   def get_config(self):\n",
    "#     config = {'d_model':self.d_model,\n",
    "#               'warmup_steps':self.warmup_steps}\n",
    "#     return config\n",
    "\n",
    "# learning_rate = CustomSchedule(d_model=100)\n",
    "\n",
    "# optimizer = tf.keras.optimizers.Adam(learning_rate=0.05)"
   ]
  },
  {
   "cell_type": "code",
   "execution_count": 6,
   "id": "4159b7ee",
   "metadata": {},
   "outputs": [
    {
     "name": "stderr",
     "output_type": "stream",
     "text": [
      "2023-05-09 17:16:04.270854: W tensorflow/tsl/platform/profile_utils/cpu_utils.cc:128] Failed to get CPU frequency: 0 Hz\n"
     ]
    },
    {
     "name": "stdout",
     "output_type": "stream",
     "text": [
      "126/126 [==============================] - 232s 2s/step - loss: 7.9539 - masked_accuracy: 0.0265\n"
     ]
    },
    {
     "data": {
      "text/plain": [
       "<keras.callbacks.History at 0x17dc22260>"
      ]
     },
     "execution_count": 6,
     "metadata": {},
     "output_type": "execute_result"
    }
   ],
   "source": [
    "# initalize model\n",
    "model = TransformerModel(emb_sz=100, num_heads=5, key_dim=64, vocab_size=15000)\n",
    "\n",
    "# compile model with Adam optimizer and masked loss and masked accuracy \n",
    "model.compile(optimizer='Adam', loss=TransformerModel.masked_loss, metrics=[TransformerModel.masked_accuracy])\n",
    "\n",
    "# train model with token titles as labels \n",
    "model.fit(x=(train_content_data, train_title_data[:,:-1]), y=train_title_labels[:,1:], batch_size=200, epochs=1) # try 75 epochs"
   ]
  },
  {
   "cell_type": "code",
   "execution_count": 7,
   "id": "17620553",
   "metadata": {},
   "outputs": [],
   "source": [
    "# save model or weights\n",
    "# model.save('../models/2blocks-datav2_1epoch') # remember to change name\n",
    "model.save_weights('../weights/2blocks-fixedlr-datav2_1epoch_weights') # remember to change name\n"
   ]
  },
  {
   "cell_type": "code",
   "execution_count": 8,
   "id": "f963ac94",
   "metadata": {},
   "outputs": [],
   "source": [
    "# from preprocess import create_embeddings, build_glove_embed_index\n",
    "# import json\n",
    "\n",
    "# glove_index = build_glove_embed_index()\n",
    "\n",
    "# with open('../data/v2/bbc_neutral.json') as f:\n",
    "#     data = json.load(f)\n",
    "\n",
    "# # separate content and title data into separate lists\n",
    "# bbc_test_content = [item['content'] for item in data]\n",
    "# bbc_test_title = [item['title'] for item in data]\n",
    "\n",
    "# bbc_test_content_emb = create_embeddings(bbc_test_content, glove_index, 256, 100, 'test_content')\n",
    "# bbc_test_title_emb = create_embeddings(bbc_test_title, glove_index, 16, 100, 'test_title')"
   ]
  },
  {
   "cell_type": "code",
   "execution_count": 9,
   "id": "536b95c2",
   "metadata": {},
   "outputs": [],
   "source": [
    "# import os\n",
    "# model_name = '../models/2blocks-customlr-datav2'\n",
    "\n",
    "# if os.file.exists(model_name):\n",
    "#     temp = input(\"Model already exists. Press y to overwrite: \")\n",
    "#     if temp == 'y':\n",
    "#         model.save(model_name)\n",
    "#     else:\n",
    "#         print(\"Model not saved\")\n",
    "# else:\n",
    "#     model.save(model_name)"
   ]
  }
 ],
 "metadata": {
  "kernelspec": {
   "display_name": "Python 3 (ipykernel)",
   "language": "python",
   "name": "python3"
  },
  "language_info": {
   "codemirror_mode": {
    "name": "ipython",
    "version": 3
   },
   "file_extension": ".py",
   "mimetype": "text/x-python",
   "name": "python",
   "nbconvert_exporter": "python",
   "pygments_lexer": "ipython3",
   "version": "3.10.8"
  }
 },
 "nbformat": 4,
 "nbformat_minor": 5
}
