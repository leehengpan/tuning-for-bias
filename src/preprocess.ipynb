{
 "cells": [
  {
   "cell_type": "code",
   "execution_count": 50,
   "id": "f0804f74",
   "metadata": {},
   "outputs": [],
   "source": [
    "import json\n",
    "from transformers import (AutoTokenizer, EncoderDecoderModel, BertConfig, \n",
    "                          EncoderDecoderConfig, BertTokenizerFast, BertModel)\n",
    "\n",
    "import tensorflow as tf\n",
    "import pickle\n",
    "tf.compat.v1.enable_eager_execution()\n",
    "import time\n",
    "import torch\n"
   ]
  },
  {
   "cell_type": "code",
   "execution_count": 56,
   "id": "1b115391",
   "metadata": {
    "scrolled": true
   },
   "outputs": [],
   "source": [
    "class ArticlePreprocessor(object):\n",
    "    \"\"\"Sets up a preprocessor object that can be used to tokenize, \n",
    "    translate from embeddings to text and vice-versa.\"\"\"\n",
    "    \n",
    "    def __init__(self, tokenizer_class=BertTokenizerFast, model_class=BertModel,\n",
    "                 tokenizer_model_checkpoint='bert-base-uncased',\n",
    "                 model_checkpoint='bert-base-uncased', \n",
    "                 max_encoder_length=512,\n",
    "                 max_decoder_length=32, padding='max_length', truncation=True, return_tensors='tf'):\n",
    "        \n",
    "        self.tokenizer_model_checkpoint = tokenizer_model_checkpoint\n",
    "        self.model_checkpoint = model_checkpoint\n",
    "        self.tokenizer = tokenizer_class.from_pretrained(tokenizer_model_checkpoint)\n",
    "        self.model = model_class.from_pretrained(\"bert-base-uncased\")\n",
    "        \n",
    "        self.max_encoder_length = max_encoder_length\n",
    "        self.max_decoder_length = max_decoder_length\n",
    "        self.padding = padding\n",
    "        self.truncation = truncation\n",
    "        self.return_tensors = return_tensors\n",
    "        self.embedded_articles = []\n",
    "        \n",
    "    \n",
    "    def _tokenize(self, text, max_len, padding, truncation, return_tensors):\n",
    "        _tokenize_res = self.tokenizer(text, max_length=max_len, truncation=truncation,\n",
    "                                       padding=padding, return_tensors=return_tensors)\n",
    "        return _tokenize_res\n",
    "    \n",
    "    \n",
    "    def tokenize_embed_article(self, content, title):\n",
    "        \n",
    "        content_tokens = self._tokenize(content, max_len=self.max_encoder_length, padding=self.padding, \n",
    "                                        truncation=self.truncation, return_tensors='pt')\n",
    "        content_embeddings = self.model(**content_tokens)[0]\n",
    "        \n",
    "        title_tokens = self._tokenize(title, max_len=self.max_decoder_length, padding=self.padding,\n",
    "                                      truncation=self.truncation, return_tensors='pt')\n",
    "        title_embeddings = self.model(**title_tokens)[0]\n",
    "        \n",
    "        article_tokens = {}\n",
    "        \n",
    "        article_tokens['content'] = content_tokens['input_ids'].detach().numpy()\n",
    "        article_tokens['content_mask'] = content_tokens['attention_mask'].detach().numpy()\n",
    "        article_tokens['content_embeddings'] = content_embeddings.detach().numpy()\n",
    "        \n",
    "        article_tokens['title'] = title_tokens['input_ids'].detach().numpy()\n",
    "        article_tokens['title_mask'] = title_tokens['attention_mask'].detach().numpy()\n",
    "        article_tokens['title_embeddings'] = title_embeddings.detach().numpy()\n",
    "        \n",
    "        return article_tokens\n",
    "    \n",
    "    def tokenize_embed_articles(self, articles, break_point=None):\n",
    "        start_time = time.time()\n",
    "        for i, article in enumerate(articles):\n",
    "            if (i%100==0):\n",
    "                print(i, time.time()-start_time)\n",
    "            if break_point is not None and i==break_point:\n",
    "                break\n",
    "            self.embedded_articles.append(self.tokenize_embed_article(**article))\n",
    "        return self.embedded_articles\n",
    "        \n",
    "\n",
    "with open('../data/nytfox_collate.json', 'r') as f:\n",
    "    articles = json.load(f)\n"
   ]
  },
  {
   "cell_type": "code",
   "execution_count": 57,
   "id": "4186d7e8",
   "metadata": {},
   "outputs": [
    {
     "name": "stderr",
     "output_type": "stream",
     "text": [
      "Some weights of the model checkpoint at bert-base-uncased were not used when initializing BertModel: ['cls.predictions.transform.dense.bias', 'cls.seq_relationship.weight', 'cls.predictions.decoder.weight', 'cls.predictions.bias', 'cls.predictions.transform.LayerNorm.bias', 'cls.predictions.transform.dense.weight', 'cls.predictions.transform.LayerNorm.weight', 'cls.seq_relationship.bias']\n",
      "- This IS expected if you are initializing BertModel from the checkpoint of a model trained on another task or with another architecture (e.g. initializing a BertForSequenceClassification model from a BertForPreTraining model).\n",
      "- This IS NOT expected if you are initializing BertModel from the checkpoint of a model that you expect to be exactly identical (initializing a BertForSequenceClassification model from a BertForSequenceClassification model).\n"
     ]
    },
    {
     "name": "stdout",
     "output_type": "stream",
     "text": [
      "0 1.9073486328125e-06\n",
      "100 26.89378571510315\n",
      "200 53.918614864349365\n"
     ]
    }
   ],
   "source": [
    "article_preprocessor = ArticlePreprocessor()\n",
    "embedded_articles = article_preprocessor.tokenize_embed_articles(articles, break_point=200)"
   ]
  },
  {
   "cell_type": "code",
   "execution_count": 46,
   "id": "9103a5a6",
   "metadata": {},
   "outputs": [
    {
     "name": "stdout",
     "output_type": "stream",
     "text": [
      "dict_keys(['content', 'content_mask', 'content_embeddings', 'title', 'title_mask', 'title_embeddings'])\n"
     ]
    }
   ],
   "source": [
    "for article in embedded_articles:\n",
    "    print(article.keys())\n",
    "    break"
   ]
  },
  {
   "cell_type": "code",
   "execution_count": 31,
   "id": "cf3c0912",
   "metadata": {},
   "outputs": [
    {
     "data": {
      "text/plain": [
       "500"
      ]
     },
     "execution_count": 31,
     "metadata": {},
     "output_type": "execute_result"
    }
   ],
   "source": [
    "len(embedded_articles)"
   ]
  },
  {
   "cell_type": "code",
   "execution_count": null,
   "id": "4fac37f7",
   "metadata": {},
   "outputs": [],
   "source": [
    "with open('../data/embedded_articles.pkl','wb+') as f:\n",
    "    pickle.dump(embedded_articles,f)"
   ]
  },
  {
   "cell_type": "code",
   "execution_count": 4,
   "id": "48adcd58",
   "metadata": {},
   "outputs": [
    {
     "ename": "EOFError",
     "evalue": "Ran out of input",
     "output_type": "error",
     "traceback": [
      "\u001b[0;31m---------------------------------------------------------------------------\u001b[0m",
      "\u001b[0;31mEOFError\u001b[0m                                  Traceback (most recent call last)",
      "Cell \u001b[0;32mIn[4], line 2\u001b[0m\n\u001b[1;32m      1\u001b[0m \u001b[38;5;28;01mwith\u001b[39;00m \u001b[38;5;28mopen\u001b[39m(\u001b[38;5;124m'\u001b[39m\u001b[38;5;124m../data/embedded_articles.pkl\u001b[39m\u001b[38;5;124m'\u001b[39m, \u001b[38;5;124m'\u001b[39m\u001b[38;5;124mrb\u001b[39m\u001b[38;5;124m'\u001b[39m) \u001b[38;5;28;01mas\u001b[39;00m f:\n\u001b[0;32m----> 2\u001b[0m     embeddings_data \u001b[38;5;241m=\u001b[39m \u001b[43mpickle\u001b[49m\u001b[38;5;241;43m.\u001b[39;49m\u001b[43mload\u001b[49m\u001b[43m(\u001b[49m\u001b[43mf\u001b[49m\u001b[43m)\u001b[49m\n",
      "\u001b[0;31mEOFError\u001b[0m: Ran out of input"
     ]
    }
   ],
   "source": [
    "with open('../data/embedded_articles.pkl', 'rb') as f:\n",
    "    embeddings_data = pickle.load(f)"
   ]
  },
  {
   "cell_type": "code",
   "execution_count": null,
   "id": "e4165243",
   "metadata": {},
   "outputs": [],
   "source": [
    "from transformers import T5Tokenizer, T5Model, AutoTokenizer, AutoModel\n",
    "\n",
    "tokenizer = AutoTokenizer.from_pretrained(\"t5-small\")\n",
    "model = AutoModel.from_pretrained(\"t5-small\")\n",
    "\n",
    "input_ids = tokenizer(\n",
    "    \"A\", return_tensors=\"pt\"\n",
    ").input_ids  # Batch size 1\n",
    "decoder_input_ids = tokenizer(\"B\", return_tensors=\"pt\").input_ids  # Batch size 1\n",
    "\n",
    "# forward pass\n",
    "outputs = model(input_ids=input_ids, decoder_input_ids=decoder_input_ids)\n",
    "last_hidden_states = outputs.last_hidden_state"
   ]
  },
  {
   "cell_type": "code",
   "execution_count": 16,
   "id": "f28ab0c7",
   "metadata": {},
   "outputs": [
    {
     "data": {
      "text/plain": [
       "torch.Size([1, 2, 512])"
      ]
     },
     "execution_count": 16,
     "metadata": {},
     "output_type": "execute_result"
    }
   ],
   "source": [
    "last_hidden_states.shape"
   ]
  }
 ],
 "metadata": {
  "kernelspec": {
   "display_name": "Python 3 (ipykernel)",
   "language": "python",
   "name": "python3"
  },
  "language_info": {
   "codemirror_mode": {
    "name": "ipython",
    "version": 3
   },
   "file_extension": ".py",
   "mimetype": "text/x-python",
   "name": "python",
   "nbconvert_exporter": "python",
   "pygments_lexer": "ipython3",
   "version": "3.10.8"
  }
 },
 "nbformat": 4,
 "nbformat_minor": 5
}
